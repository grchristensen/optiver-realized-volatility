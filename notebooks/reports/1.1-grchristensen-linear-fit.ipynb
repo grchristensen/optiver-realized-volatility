{
 "cells": [
  {
   "cell_type": "code",
   "execution_count": 1,
   "id": "ee6a7232-7d18-446a-a92f-ebcce08d3523",
   "metadata": {
    "tags": []
   },
   "outputs": [],
   "source": [
    "import os\n",
    "\n",
    "import pandas as pd\n",
    "import numpy as np\n",
    "from tqdm import tqdm\n",
    "\n",
    "from optiver import Directories\n",
    "from optiver.utils import realized_volatility, generate_dfs\n",
    "from optiver.bench import rmspe\n",
    "\n",
    "dirs = Directories(\"../..\")"
   ]
  },
  {
   "cell_type": "markdown",
   "id": "dc795039-9379-4e8d-bbff-b234173aa1f9",
   "metadata": {
    "tags": []
   },
   "source": [
    "# Past Values as a Predictor for Realized Volatility\n",
    "\n",
    "One way to predict realized volatility is to take the value that it is now. A question we would like to answer is whether realized volatility tends to be the same as it was 10 minutes ago, or if it tends to change. If we were to fit a linear model to the stock data, this would be equivalent to answering whether the slope and intercept of the model equal 1 and 0, respectively. If we draw a conclusion for one stock, is it the same for all stocks? We can perform hypothesis tests to answer this question.\n",
    "\n",
    "## Using Past Values as Predictions\n",
    "\n",
    "We can calculate the RMSPE when using past realized volatility as a prediction and compare it to the RMSPE of linear models to check whether it is worth it at all to use a linear model. To calculate the realized volatility from the order book data, we first calculate the weighted average price (WAP)\n",
    "\n",
    "$$\n",
    "S = \\frac{BidPrice_1 * AskSize_1 + AskPrice_1 * BidSize_1}{BidSize_1 + AskSize_1},\n",
    "$$\n",
    "\n",
    "and then the log return at each second based on the WAP:\n",
    "\n",
    "$$\n",
    "r_{t_1, t_2} = \\log \\frac{S_{t_2}}{S_{t_1}}.\n",
    "$$\n",
    "\n",
    "From there we can calculate realized volatility as the root of squared log returns for each time bucket:\n",
    "\n",
    "$$\n",
    "\\sigma = \\sqrt{\\sum_t{r^2_{t-1, t}}}.\n",
    "$$"
   ]
  },
  {
   "cell_type": "code",
   "execution_count": null,
   "id": "529d6892-c61f-4b90-8ae6-c50f732a34bb",
   "metadata": {},
   "outputs": [],
   "source": [
    "generated_dfs = tqdm(generate_dfs(dirs.processed / \"book_train\"), total=92)\n",
    "past_volatility_predictions = pd.concat({stock_id:realized_volatility(df) for stock_id, df in generated_dfs}, names=(\"stock_id\", \"time_id\"))\n",
    "\n",
    "target_volatility = pd.read_hdf(dirs.processed / \"targets_train.h5\")\n",
    "\n",
    "rmspe(past_volatility_predictions, target_volatility)"
   ]
  },
  {
   "cell_type": "markdown",
   "id": "300b9a45-3920-4fec-a404-3892304244f9",
   "metadata": {},
   "source": [
    "We get an RMSPE of ~34% when using past volatility as the prediction, how does the linear model fare? "
   ]
  },
  {
   "cell_type": "code",
   "execution_count": 3,
   "id": "ea1d09cb-b1a1-469e-8dbe-b95a08fc295d",
   "metadata": {},
   "outputs": [],
   "source": [
    "past_test = past_volatility_predictions.sample(frac=0.2, random_state=0).sort_index()\n",
    "test_index = past_test.index\n",
    "\n",
    "target_test = target_volatility.loc[test_index]\n",
    "\n",
    "past_train, target_train = past_volatility_predictions.drop(test_index), target_volatility.drop(test_index)"
   ]
  },
  {
   "cell_type": "code",
   "execution_count": 4,
   "id": "91f27344-8828-425c-965b-6d1355ecad4f",
   "metadata": {},
   "outputs": [
    {
     "data": {
      "text/html": [
       "<div>\n",
       "<style scoped>\n",
       "    .dataframe tbody tr th:only-of-type {\n",
       "        vertical-align: middle;\n",
       "    }\n",
       "\n",
       "    .dataframe tbody tr th {\n",
       "        vertical-align: top;\n",
       "    }\n",
       "\n",
       "    .dataframe thead th {\n",
       "        text-align: right;\n",
       "    }\n",
       "</style>\n",
       "<table border=\"1\" class=\"dataframe\">\n",
       "  <thead>\n",
       "    <tr style=\"text-align: right;\">\n",
       "      <th></th>\n",
       "      <th>slope</th>\n",
       "      <th>intercept</th>\n",
       "    </tr>\n",
       "    <tr>\n",
       "      <th>stock_id</th>\n",
       "      <th></th>\n",
       "      <th></th>\n",
       "    </tr>\n",
       "  </thead>\n",
       "  <tbody>\n",
       "    <tr>\n",
       "      <th>0</th>\n",
       "      <td>0.610802</td>\n",
       "      <td>0.001269</td>\n",
       "    </tr>\n",
       "    <tr>\n",
       "      <th>1</th>\n",
       "      <td>0.643120</td>\n",
       "      <td>0.001328</td>\n",
       "    </tr>\n",
       "    <tr>\n",
       "      <th>2</th>\n",
       "      <td>0.769605</td>\n",
       "      <td>0.000399</td>\n",
       "    </tr>\n",
       "    <tr>\n",
       "      <th>4</th>\n",
       "      <td>0.632173</td>\n",
       "      <td>0.001274</td>\n",
       "    </tr>\n",
       "    <tr>\n",
       "      <th>5</th>\n",
       "      <td>0.726581</td>\n",
       "      <td>0.001112</td>\n",
       "    </tr>\n",
       "    <tr>\n",
       "      <th>...</th>\n",
       "      <td>...</td>\n",
       "      <td>...</td>\n",
       "    </tr>\n",
       "    <tr>\n",
       "      <th>118</th>\n",
       "      <td>0.667330</td>\n",
       "      <td>0.001293</td>\n",
       "    </tr>\n",
       "    <tr>\n",
       "      <th>119</th>\n",
       "      <td>0.772152</td>\n",
       "      <td>0.000508</td>\n",
       "    </tr>\n",
       "    <tr>\n",
       "      <th>123</th>\n",
       "      <td>0.733954</td>\n",
       "      <td>0.000510</td>\n",
       "    </tr>\n",
       "    <tr>\n",
       "      <th>125</th>\n",
       "      <td>0.786191</td>\n",
       "      <td>0.000321</td>\n",
       "    </tr>\n",
       "    <tr>\n",
       "      <th>126</th>\n",
       "      <td>0.654945</td>\n",
       "      <td>0.001517</td>\n",
       "    </tr>\n",
       "  </tbody>\n",
       "</table>\n",
       "<p>92 rows × 2 columns</p>\n",
       "</div>"
      ],
      "text/plain": [
       "             slope  intercept\n",
       "stock_id                     \n",
       "0         0.610802   0.001269\n",
       "1         0.643120   0.001328\n",
       "2         0.769605   0.000399\n",
       "4         0.632173   0.001274\n",
       "5         0.726581   0.001112\n",
       "...            ...        ...\n",
       "118       0.667330   0.001293\n",
       "119       0.772152   0.000508\n",
       "123       0.733954   0.000510\n",
       "125       0.786191   0.000321\n",
       "126       0.654945   0.001517\n",
       "\n",
       "[92 rows x 2 columns]"
      ]
     },
     "metadata": {},
     "output_type": "display_data"
    },
    {
     "name": "stdout",
     "output_type": "stream",
     "text": [
      "RMSPE: 0.32760240784708133\n"
     ]
    }
   ],
   "source": [
    "def devs_and_mean(df):\n",
    "    means = df.groupby(level=\"stock_id\").mean()\n",
    "    \n",
    "    devs = df - means\n",
    "    \n",
    "    return devs, means\n",
    "\n",
    "\n",
    "def group_stocks(df):\n",
    "    return df.groupby(level=\"stock_id\")\n",
    "\n",
    "\n",
    "past_devs, past_means = devs_and_mean(past_train)\n",
    "target_devs, target_means = devs_and_mean(target_train)\n",
    "\n",
    "slopes = group_stocks(past_devs * target_devs).sum() / group_stocks(past_devs**2).sum()\n",
    "intercepts = target_means - slopes * past_means\n",
    "\n",
    "linear_models = pd.DataFrame({\"slope\": slopes, \"intercept\": intercepts})\n",
    "\n",
    "predictions_test = past_test * linear_models[\"slope\"] + linear_models[\"intercept\"]\n",
    "\n",
    "display(linear_models)\n",
    "print(f\"RMSPE: {rmspe(predictions_test, target_test)}\")"
   ]
  },
  {
   "cell_type": "markdown",
   "id": "aa47a907-ecb8-4366-a4e4-2b0966520339",
   "metadata": {},
   "source": [
    "Linear models for each stock drop the RMSPE by 1-2%, but we know we can do a lot better. (Skipping hypothesis tests for now to work on more important tasks. Also a better hypothesis test would simply be looking at the mean of $\\text{target} - \\text{past}$, as it's technically possible for a linear model to have a non 1/0 slope/intercept and just have the outputs approximate a 1/0 slope/intercept for a certain range)."
   ]
  }
 ],
 "metadata": {
  "kernelspec": {
   "display_name": "Python 3 (ipykernel)",
   "language": "python",
   "name": "python3"
  },
  "language_info": {
   "codemirror_mode": {
    "name": "ipython",
    "version": 3
   },
   "file_extension": ".py",
   "mimetype": "text/x-python",
   "name": "python",
   "nbconvert_exporter": "python",
   "pygments_lexer": "ipython3",
   "version": "3.9.6"
  }
 },
 "nbformat": 4,
 "nbformat_minor": 5
}
