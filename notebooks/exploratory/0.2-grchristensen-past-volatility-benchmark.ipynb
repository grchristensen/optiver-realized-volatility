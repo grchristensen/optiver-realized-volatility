{
 "cells": [
  {
   "cell_type": "code",
   "execution_count": 1,
   "id": "749ded86-39db-4c75-8a69-815acea3090d",
   "metadata": {},
   "outputs": [],
   "source": [
    "import os\n",
    "from os.path import join\n",
    "from pathlib import Path\n",
    "\n",
    "import pandas as pd\n",
    "import numpy as np\n",
    "\n",
    "processed_dir = Path('../../data/processed')"
   ]
  },
  {
   "cell_type": "code",
   "execution_count": 2,
   "id": "90c4697d-b089-4771-9c7e-edeb9c3a6c08",
   "metadata": {},
   "outputs": [],
   "source": [
    "past_realized_volatility = pd.read_hdf(join(processed_dir, 'past_volatility_indexed.h5'))\n",
    "targets = pd.read_hdf(join(processed_dir, 'targets_indexed.h5'))"
   ]
  },
  {
   "cell_type": "markdown",
   "id": "a0692449-89f5-4964-ae69-b0ba5ab1e22e",
   "metadata": {},
   "source": [
    "A simple benchmark that we can measure our models against is the accuracy of using past realized volatility as a predictor for future volatility. Since we already have the past volatility computed we can just take the rms error right away."
   ]
  },
  {
   "cell_type": "code",
   "execution_count": 3,
   "id": "a72df1ea-a97c-40bd-9140-852df8614148",
   "metadata": {},
   "outputs": [
    {
     "data": {
      "text/plain": [
       "0.2455915676451374"
      ]
     },
     "execution_count": 3,
     "metadata": {},
     "output_type": "execute_result"
    }
   ],
   "source": [
    "mspe = np.mean(((past_realized_volatility - targets.loc[96]) / targets.loc[96])**2)\n",
    "\n",
    "mspe**(1/2)"
   ]
  },
  {
   "cell_type": "markdown",
   "id": "2ed017db-5ae2-4363-aa90-fa143a97d8f3",
   "metadata": {},
   "source": [
    "We can also fit a linear model to the data and use hypothesis testing to see if it is much different than using past realized volatility. (Is the slope different from 1? Is the y-intercept different than 0?)"
   ]
  },
  {
   "cell_type": "code",
   "execution_count": 4,
   "id": "3fc00b85-0950-43c2-bd1a-0466365e266b",
   "metadata": {},
   "outputs": [
    {
     "data": {
      "text/plain": [
       "(0.7038942983677003, 0.001070400444458277)"
      ]
     },
     "execution_count": 4,
     "metadata": {},
     "output_type": "execute_result"
    }
   ],
   "source": [
    "past_mean = past_realized_volatility.mean()\n",
    "target_mean = targets.loc[96].mean()\n",
    "\n",
    "past_devs = past_realized_volatility - past_mean\n",
    "target_devs = targets.loc[96] - target_mean\n",
    "\n",
    "slope = (past_devs * target_devs).sum() / (past_devs**2).sum()\n",
    "intercept = target_mean - slope * past_mean\n",
    "\n",
    "slope, intercept"
   ]
  },
  {
   "cell_type": "markdown",
   "id": "e178e2fc-2d08-4a8f-a1d0-6ebf4519e1fd",
   "metadata": {},
   "source": [
    "Based on these numbers it seems that intercept is likely to actually be 0 but the slope does not equal 1, we should use a more rigorous approach to prove this."
   ]
  },
  {
   "cell_type": "code",
   "execution_count": 5,
   "id": "1d7b07c5-82ca-4794-ae22-bf9731a52125",
   "metadata": {},
   "outputs": [
    {
     "data": {
      "text/plain": [
       "(32.45758727340186, -50.052824664085136)"
      ]
     },
     "execution_count": 5,
     "metadata": {},
     "output_type": "execute_result"
    }
   ],
   "source": [
    "preds = past_realized_volatility * slope + intercept\n",
    "\n",
    "rss = ((preds - targets.loc[96])**2).sum()\n",
    "\n",
    "var = rss / (len(preds) - 2)\n",
    "\n",
    "intercept_se = (var * (1 / len(preds) + past_mean**2 / (past_devs**2).sum()))**(1/2)\n",
    "slope_se = (var / (past_devs**2).sum())**(1/2)\n",
    "\n",
    "# intercept_interval = (intercept - 2 * intercept_se, intercept + 2 * intercept_se)\n",
    "# slope_interval = (slope - 2 * slope_se, slope + slope_se)\n",
    "intercept_t = intercept / intercept_se\n",
    "slope_t = (slope - 1) / slope_se\n",
    "\n",
    "intercept_t, slope_t"
   ]
  },
  {
   "cell_type": "markdown",
   "id": "4088548d-3727-4b0e-9947-28d94cd65433",
   "metadata": {},
   "source": [
    "Actually, it seems that while the slope is not equal to 1, the intercept is also not equal to 0."
   ]
  },
  {
   "cell_type": "code",
   "execution_count": 6,
   "id": "c0fffb4c-d149-4141-960e-b4fa4a7c8ddd",
   "metadata": {},
   "outputs": [],
   "source": [
    "past_val = past_realized_volatility.sample(frac=0.2, random_state=0)\n",
    "val_index = past_val.index\n",
    "\n",
    "past_train = past_realized_volatility.drop(index=val_index)\n",
    "target_train = targets.loc[96].drop(index=val_index)\n",
    "\n",
    "target_val = targets.loc[96][val_index]"
   ]
  },
  {
   "cell_type": "code",
   "execution_count": 7,
   "id": "47265eb2-de2e-457f-8d81-7d250ed082f6",
   "metadata": {},
   "outputs": [
    {
     "data": {
      "text/plain": [
       "(0.7071240521986295, 0.0010513888903972359)"
      ]
     },
     "execution_count": 7,
     "metadata": {},
     "output_type": "execute_result"
    }
   ],
   "source": [
    "past_train_mean = past_train.mean()\n",
    "target_train_mean = target_train.mean()\n",
    "\n",
    "past_train_devs = past_train - past_train_mean\n",
    "target_train_devs = target_train - target_train_mean\n",
    "\n",
    "slope_train = (past_train_devs * target_train_devs).sum() / (past_train_devs**2).sum()\n",
    "intercept_train = target_train_mean - slope_train * past_train_mean\n",
    "\n",
    "slope_train, intercept_train"
   ]
  },
  {
   "cell_type": "code",
   "execution_count": 8,
   "id": "9fb47755-8a41-472a-88c9-5e1304106038",
   "metadata": {},
   "outputs": [
    {
     "data": {
      "text/plain": [
       "0.20311094758611253"
      ]
     },
     "execution_count": 8,
     "metadata": {},
     "output_type": "execute_result"
    }
   ],
   "source": [
    "preds_val = past_val * slope_train + intercept_train\n",
    "\n",
    "rmspe_val = np.mean(((preds_val - target_val) / target_val)**2)\n",
    "rmspe_val = rmspe_val**(1/2)\n",
    "\n",
    "rmspe_val"
   ]
  }
 ],
 "metadata": {
  "kernelspec": {
   "display_name": "Python 3 (ipykernel)",
   "language": "python",
   "name": "python3"
  },
  "language_info": {
   "codemirror_mode": {
    "name": "ipython",
    "version": 3
   },
   "file_extension": ".py",
   "mimetype": "text/x-python",
   "name": "python",
   "nbconvert_exporter": "python",
   "pygments_lexer": "ipython3",
   "version": "3.9.6"
  }
 },
 "nbformat": 4,
 "nbformat_minor": 5
}
