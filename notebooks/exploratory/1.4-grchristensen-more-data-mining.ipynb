{
 "cells": [
  {
   "cell_type": "code",
   "execution_count": 1,
   "id": "d3a87a83-cc5d-4179-965a-994518231fd0",
   "metadata": {},
   "outputs": [
    {
     "ename": "ImportError",
     "evalue": "cannot import name 'realized_volatility' from 'optiver.utils' (/home/gchristensen/repos/optiver-realized-volatility/optiver/utils.py)",
     "output_type": "error",
     "traceback": [
      "\u001b[0;31m---------------------------------------------------------------------------\u001b[0m",
      "\u001b[0;31mImportError\u001b[0m                               Traceback (most recent call last)",
      "\u001b[0;32m/tmp/ipykernel_5554/4169568987.py\u001b[0m in \u001b[0;36m<module>\u001b[0;34m\u001b[0m\n\u001b[1;32m      6\u001b[0m \u001b[0;32mfrom\u001b[0m \u001b[0moptiver\u001b[0m \u001b[0;32mimport\u001b[0m \u001b[0mDirectories\u001b[0m\u001b[0;34m\u001b[0m\u001b[0;34m\u001b[0m\u001b[0m\n\u001b[1;32m      7\u001b[0m \u001b[0;32mfrom\u001b[0m \u001b[0moptiver\u001b[0m\u001b[0;34m.\u001b[0m\u001b[0mbench\u001b[0m \u001b[0;32mimport\u001b[0m \u001b[0mrmspe\u001b[0m\u001b[0;34m\u001b[0m\u001b[0;34m\u001b[0m\u001b[0m\n\u001b[0;32m----> 8\u001b[0;31m \u001b[0;32mfrom\u001b[0m \u001b[0moptiver\u001b[0m\u001b[0;34m.\u001b[0m\u001b[0mutils\u001b[0m \u001b[0;32mimport\u001b[0m \u001b[0mrealized_volatility\u001b[0m\u001b[0;34m,\u001b[0m \u001b[0mgenerate_dfs\u001b[0m\u001b[0;34m\u001b[0m\u001b[0;34m\u001b[0m\u001b[0m\n\u001b[0m\u001b[1;32m      9\u001b[0m \u001b[0;34m\u001b[0m\u001b[0m\n\u001b[1;32m     10\u001b[0m \u001b[0mdirs\u001b[0m \u001b[0;34m=\u001b[0m \u001b[0mDirectories\u001b[0m\u001b[0;34m(\u001b[0m\u001b[0;34m\"../..\"\u001b[0m\u001b[0;34m)\u001b[0m\u001b[0;34m\u001b[0m\u001b[0;34m\u001b[0m\u001b[0m\n",
      "\u001b[0;31mImportError\u001b[0m: cannot import name 'realized_volatility' from 'optiver.utils' (/home/gchristensen/repos/optiver-realized-volatility/optiver/utils.py)"
     ]
    }
   ],
   "source": [
    "import pandas as pd\n",
    "import numpy as np\n",
    "from tqdm.auto import tqdm\n",
    "from sklearn.linear_model import LinearRegression\n",
    "\n",
    "from optiver import Directories\n",
    "from optiver.bench import rmspe\n",
    "from optiver.utils import realized_volatility, generate_dfs\n",
    "\n",
    "dirs = Directories(\"../..\")"
   ]
  },
  {
   "cell_type": "markdown",
   "id": "8e3abfec-c91e-4680-98c2-e199e620d2d0",
   "metadata": {},
   "source": [
    "Let's look at stocks 21, 62, 92, 110, and 125 to try to find interesting patterns within the order book data."
   ]
  },
  {
   "cell_type": "code",
   "execution_count": null,
   "id": "0c756217-a912-4f79-a54c-0097b908d0d7",
   "metadata": {},
   "outputs": [],
   "source": [
    "stock_id = 21\n",
    "\n",
    "order_book = pd.read_hdf(dirs.processed / \"book_train\" / f\"stock_{stock_id}.h5\").loc[stock_id]\n",
    "trade_book = pd.read_hdf(dirs.processed / \"trade_train\" / f\"stock_{stock_id}.h5\").loc[stock_id]\n",
    "all_targets = pd.read_hdf(dirs.processed / \"targets_train.h5\")\n",
    "targets = all_targets.loc[stock_id]"
   ]
  },
  {
   "cell_type": "code",
   "execution_count": null,
   "id": "032ef53e-96e3-4f03-a5b8-afe719010244",
   "metadata": {},
   "outputs": [],
   "source": [
    "order_book"
   ]
  },
  {
   "cell_type": "code",
   "execution_count": null,
   "id": "d02e6b04-d9f6-466c-9d8f-4e74c4720f68",
   "metadata": {},
   "outputs": [],
   "source": [
    "def describe_df(df):\n",
    "    data_dict = {}\n",
    "    \n",
    "    data_dict[\"mean\"] = df.mean()\n",
    "    data_dict[\"median\"] = df.median()\n",
    "    data_dict[\"mode\"] = df.mode().iloc[0]\n",
    "    \n",
    "    data_dict[\"range\"] = df.max() - df.min()\n",
    "    data_dict[\"IQR\"] = df.quantile(q=0.75) - df.quantile(q=0.25)\n",
    "    \n",
    "    return pd.DataFrame(data_dict)"
   ]
  },
  {
   "cell_type": "code",
   "execution_count": null,
   "id": "e47a6642-b288-4ac8-a72a-522a5d85f7be",
   "metadata": {},
   "outputs": [],
   "source": [
    "describe_df(order_book)"
   ]
  },
  {
   "cell_type": "markdown",
   "id": "1f24110c-9369-4a6c-bee5-7f2fc1126e2b",
   "metadata": {},
   "source": [
    "There appears to be some positive skew in the bid and ask sizes."
   ]
  },
  {
   "cell_type": "code",
   "execution_count": null,
   "id": "3ca734ce-caf6-498d-aebd-1d2adc0f2aee",
   "metadata": {},
   "outputs": [],
   "source": [
    "price_columns = [\"bid_price1\", \"ask_price1\", \"bid_price2\", \"ask_price2\"]\n",
    "size_columns = [\"bid_size1\", \"ask_size1\", \"bid_size2\", \"ask_size2\"]"
   ]
  },
  {
   "cell_type": "code",
   "execution_count": null,
   "id": "7292a177-ae6d-45f6-aeff-0c578553fd3a",
   "metadata": {},
   "outputs": [],
   "source": [
    "_ = order_book.boxplot(column=price_columns)"
   ]
  },
  {
   "cell_type": "code",
   "execution_count": null,
   "id": "249344a0-e40a-4721-abc3-3e832f654798",
   "metadata": {},
   "outputs": [],
   "source": [
    "_ = order_book.boxplot(column=size_columns)"
   ]
  },
  {
   "cell_type": "code",
   "execution_count": null,
   "id": "b0aa89ec-d17a-477c-a6f3-d5b4fc615886",
   "metadata": {},
   "outputs": [],
   "source": [
    "bin_size = 100"
   ]
  },
  {
   "cell_type": "code",
   "execution_count": null,
   "id": "3711939e-40ed-4db2-a555-383c1b31a4da",
   "metadata": {},
   "outputs": [],
   "source": [
    "_ = order_book.hist(column=price_columns, bins=bin_size)"
   ]
  },
  {
   "cell_type": "code",
   "execution_count": null,
   "id": "cc9b6e9e-3f01-457b-818f-6be828b09b2d",
   "metadata": {},
   "outputs": [],
   "source": [
    "_ = order_book.hist(column=size_columns, bins=bin_size)"
   ]
  },
  {
   "cell_type": "code",
   "execution_count": null,
   "id": "f6da035b-ce42-4013-937f-4a3f410d6ac9",
   "metadata": {},
   "outputs": [],
   "source": [
    "features = pd.DataFrame({\"past_vol1\": realized_volatility(order_book)})\n",
    "features[\"target\"] = targets"
   ]
  },
  {
   "cell_type": "code",
   "execution_count": null,
   "id": "710e073f-9508-4f24-b818-3c3f2e37544f",
   "metadata": {},
   "outputs": [],
   "source": [
    "wap1 = (order_book[\"bid_price1\"] * order_book[\"ask_size1\"] + order_book[\"ask_price1\"] * order_book[\"bid_size1\"]) / \\\n",
    "       (order_book[\"bid_size1\"] + order_book[\"ask_size1\"])\n",
    "\n",
    "wap1_groupby = wap1.groupby(level=\"time_id\")\n",
    "features[\"wap1_mean\"] = wap1_groupby.mean()\n",
    "features[\"wap1_std\"] = wap1_groupby.std()\n",
    "features[\"wap1_min\"] = wap1_groupby.min()\n",
    "features[\"wap1_max\"] = wap1_groupby.max()\n",
    "features[\"wap1_med\"] = wap1_groupby.median()"
   ]
  },
  {
   "cell_type": "code",
   "execution_count": null,
   "id": "404a6d2d-73f8-4014-a920-27f4e2c2e49c",
   "metadata": {},
   "outputs": [],
   "source": [
    "features[\"hello\"] = np.log(abs((wap1 - 1).groupby(level=\"time_id\").mean()))"
   ]
  },
  {
   "cell_type": "code",
   "execution_count": null,
   "id": "5eaddcfa-2465-45e6-b0a8-b0f477057850",
   "metadata": {},
   "outputs": [],
   "source": [
    "wap2 = (order_book[\"bid_price2\"] * order_book[\"ask_size2\"] + order_book[\"ask_price2\"] * order_book[\"bid_size2\"]) / \\\n",
    "       (order_book[\"bid_size2\"] + order_book[\"ask_size2\"])\n",
    "\n",
    "wap2_groupby = wap2.groupby(level=\"time_id\")\n",
    "features[\"wap2_mean\"] = wap2_groupby.mean()\n",
    "features[\"wap2_std\"] = wap2_groupby.std()\n",
    "features[\"wap2_min\"] = wap2_groupby.min()\n",
    "features[\"wap2_max\"] = wap2_groupby.max()\n",
    "features[\"wap2_med\"] = wap2_groupby.median()"
   ]
  },
  {
   "cell_type": "code",
   "execution_count": null,
   "id": "0903f323-63b2-478c-8ff7-ed7ed79d57d9",
   "metadata": {},
   "outputs": [],
   "source": [
    "log_return1 = np.log(wap1).groupby(level=\"time_id\").diff().dropna()\n",
    "\n",
    "lr1_groupby = log_return1.groupby(level=\"time_id\")\n",
    "features[\"lr1_mean\"] = lr1_groupby.mean()\n",
    "features[\"lr1_std\"] = lr1_groupby.std()\n",
    "features[\"lr1_min\"] = lr1_groupby.min()\n",
    "features[\"lr1_max\"] = lr1_groupby.max()\n",
    "features[\"lr1_med\"] = lr1_groupby.median()"
   ]
  },
  {
   "cell_type": "code",
   "execution_count": null,
   "id": "ac384360-5a55-40d7-99bd-e917b853a889",
   "metadata": {},
   "outputs": [],
   "source": [
    "log_return2 = np.log(wap2).groupby(level=\"time_id\").diff().dropna()\n",
    "\n",
    "lr2_groupby = log_return2.groupby(level=\"time_id\")\n",
    "features[\"lr2_mean\"] = lr2_groupby.mean()\n",
    "features[\"lr2_std\"] = lr2_groupby.std()\n",
    "features[\"lr2_min\"] = lr2_groupby.min()\n",
    "features[\"lr2_max\"] = lr2_groupby.max()\n",
    "features[\"lr2_med\"] = lr2_groupby.median()"
   ]
  },
  {
   "cell_type": "code",
   "execution_count": null,
   "id": "3bbad25e-bd09-4a6d-ba19-9bd1f43130a7",
   "metadata": {},
   "outputs": [],
   "source": [
    "features[\"past_vol2\"] = np.sqrt((log_return2**2).groupby(level=\"time_id\").sum())"
   ]
  },
  {
   "cell_type": "code",
   "execution_count": null,
   "id": "5953087b-3468-43a9-aa19-fae1e640250c",
   "metadata": {},
   "outputs": [],
   "source": [
    "features[\"time_id\"] = features.index.get_level_values(\"time_id\")"
   ]
  },
  {
   "cell_type": "code",
   "execution_count": null,
   "id": "c8ebe026-1866-437a-987d-55212bef97f8",
   "metadata": {},
   "outputs": [],
   "source": [
    "bid_ask_spread1 = order_book[\"ask_price1\"] / order_book[\"bid_price1\"] - 1\n",
    "bid_ask_spread2 = order_book[\"ask_price2\"] / order_book[\"bid_price2\"] - 1\n",
    "\n",
    "bas1_groupby = bid_ask_spread1.groupby(level=\"time_id\")\n",
    "bas2_groupby = bid_ask_spread2.groupby(level=\"time_id\")\n",
    "\n",
    "features[\"bas1_mean\"] = bas1_groupby.mean()\n",
    "features[\"bas1_med\"] = bas1_groupby.median()\n",
    "features[\"bas1_std\"] = bas1_groupby.std()\n",
    "features[\"bas1_min\"] = bas1_groupby.min()\n",
    "features[\"bas1_max\"] = bas1_groupby.max()\n",
    "\n",
    "features[\"bas2_mean\"] = bas2_groupby.mean()\n",
    "features[\"bas2_med\"] = bas2_groupby.median()\n",
    "features[\"bas2_std\"] = bas2_groupby.std()\n",
    "features[\"bas2_min\"] = bas2_groupby.min()\n",
    "features[\"bas2_max\"] = bas2_groupby.max()"
   ]
  },
  {
   "cell_type": "code",
   "execution_count": null,
   "id": "7da7ee1a-10f3-47b9-a4df-542bee20b48a",
   "metadata": {},
   "outputs": [],
   "source": [
    "exchanges = trade_book[\"price\"] * trade_book[\"size\"]\n",
    "exchanges_groupby = exchanges.groupby(level=\"time_id\")\n",
    "features[\"exchange_total\"] = exchanges_groupby.sum()\n",
    "features[\"exchange_total_debug\"] = (trade_book[\"price\"] * trade_book[\"size\"] * trade_book[\"order_count\"]).groupby(level=\"time_id\").sum()"
   ]
  },
  {
   "cell_type": "code",
   "execution_count": null,
   "id": "1f244551-6bda-45bc-a22d-b23b0aa75e3d",
   "metadata": {},
   "outputs": [],
   "source": [
    "features[\"exchange_mean\"] = exchanges_groupby.mean()\n",
    "features[\"exchange_std\"] = exchanges_groupby.std()\n",
    "features[\"exchange_min\"] = exchanges_groupby.min()\n",
    "features[\"exchange_max\"] = exchanges_groupby.max()\n",
    "features[\"exchange_med\"] = exchanges_groupby.median()"
   ]
  },
  {
   "cell_type": "markdown",
   "id": "ff31655c-d53d-4c50-bb8e-6b584a567a1e",
   "metadata": {},
   "source": [
    "**Order Book Linear Features**: past_vol1, past_vol_2, wap1_std, wap2_std, lr1_std, lr1_min, lr1_max, lr2_std, lr2_min, lr2_max, bas1_mean, bas1_std, bas1_med, bas1_max, bas2_mean, bas2_std, bas2_med, bas2_max\n",
    "\n",
    "**Order Book Potential Linear Features**: wap1_min, wap1_max, wap2_min, wap2_max\n",
    "\n",
    "**Order Book Decision Tree Features**: bas1_min, bas2_min\n",
    "\n",
    "**Order Book NN Features**: wap1_mean, wap1_med, wap2_mean, wap2_med\n",
    "\n",
    "**Trade Book Linear Features**: exchange_total\n",
    "\n",
    "**Trade Book Decsion Tree Features**: exchange_mean, exchange_std, **exchange_min**, exchange_med\n",
    "\n",
    "**Trade Book NN Features**: exchange_max\n",
    "\n",
    "NOTE: wap_mean and lr_mean may be more useful if you do a transformation on them where you take the absolute value"
   ]
  },
  {
   "cell_type": "code",
   "execution_count": null,
   "id": "59ee308a-5130-4181-82d2-2fa1673285c7",
   "metadata": {},
   "outputs": [],
   "source": [
    "chosen_feature = \"exchange_total\"\n",
    "chosen_target = \"target\"\n",
    "\n",
    "# graph_df = pd.DataFrame({chosen_feature: features[chosen_feature], \"target\": targets})\n",
    "\n",
    "_ = features.plot(x=chosen_feature, y=chosen_target, kind=\"scatter\")"
   ]
  },
  {
   "cell_type": "code",
   "execution_count": null,
   "id": "769aceba-ae47-4b73-9288-dcbfcabd8c2e",
   "metadata": {},
   "outputs": [],
   "source": [
    "_ = features.boxplot(column=\"target\")"
   ]
  },
  {
   "cell_type": "markdown",
   "id": "7a4d6ebc-b668-40a4-b90b-7370766d063a",
   "metadata": {},
   "source": [
    "Features from the order book data that are highly correlated with target seem to be measures of variance(`wap{1/2}_std`, `lr{1/2}_std`), past volatilities for both best and second best prices, the mininums and maximums of log return measures, and all bid-ask-spread features except minimum, which seems to be useful for decision trees.\n",
    "\n",
    "The `exchange_total` has a variable but evident positive association with the target. A feature that seems really useful from the trade data is the mininum exchange, but seems more useful for a decision tree type of logic.\n",
    "\n",
    "The question is how correlated are these variables with each other."
   ]
  },
  {
   "cell_type": "code",
   "execution_count": null,
   "id": "f840847b-c5b3-4b3e-a86c-12f9457aa393",
   "metadata": {},
   "outputs": [],
   "source": [
    "useful_linear_features = [\"past_vol1\", \"past_vol2\", \"wap1_std\", \"wap2_std\", \"lr1_std\", \"lr2_std\", \"lr1_min\", \"lr2_min\", \"lr1_max\", \"lr2_max\"]\n",
    "useful_linear_features_trade = useful_linear_features + [\"exchange_total\"]\n",
    "\n",
    "useful_linear_df = features[useful_linear_features]\n",
    "_ = pd.plotting.scatter_matrix(useful_linear_df)"
   ]
  },
  {
   "cell_type": "code",
   "execution_count": null,
   "id": "6088630b-6585-4405-adb2-750a2b69112b",
   "metadata": {},
   "outputs": [],
   "source": [
    "# naive_linear = features[[\"past_vol1\", \"past_vol2\", \"lr1_std\", \"lr2_std\", \"lr1_min\", \"lr2_min\", \"exchange_min\"]]\n",
    "# naive_linear = features[[\"past_vol1\", \"lr1_std\", \"lr1_min\"]]\n",
    "naive_linear = useful_linear_df\n",
    "# naive_linear = features[useful_linear_features_trade]\n",
    "\n",
    "naive_linear_val = naive_linear.sample(frac=0.2, random_state=10).sort_index()\n",
    "naive_linear_train = naive_linear.drop(naive_linear_val.index).sort_index()\n",
    "\n",
    "targets_val = targets.loc[naive_linear_val.index]\n",
    "targets_train = targets.loc[naive_linear_train.index]"
   ]
  },
  {
   "cell_type": "code",
   "execution_count": null,
   "id": "40c8aa99-ec1a-428b-af54-ae1f059c1741",
   "metadata": {},
   "outputs": [],
   "source": [
    "regressor = LinearRegression()\n",
    "regressor.fit(naive_linear_train, targets_train)\n",
    "\n",
    "past_regressor = LinearRegression()\n",
    "past_regressor.fit(naive_linear_train[[\"past_vol1\"]], targets_train)"
   ]
  },
  {
   "cell_type": "code",
   "execution_count": null,
   "id": "67238bd2-dd84-4963-a397-70554b63cfb7",
   "metadata": {},
   "outputs": [],
   "source": [
    "past_baseline = rmspe(naive_linear_val[\"past_vol1\"], targets_val)\n",
    "past_linear_baseline = rmspe(past_regressor.predict(naive_linear_val[[\"past_vol1\"]]), targets_val)\n",
    "linear_baseline = rmspe(regressor.predict(naive_linear_val), targets_val)\n",
    "\n",
    "past_baseline, past_linear_baseline, linear_baseline"
   ]
  },
  {
   "cell_type": "code",
   "execution_count": null,
   "id": "f1e76403-c8c5-4a51-969f-c824cb2ae5e0",
   "metadata": {},
   "outputs": [],
   "source": [
    "def fit_predict_split(df, stock_id):\n",
    "    df_feature = pd.DataFrame({\"past_vol1\": realized_volatility(df)})\n",
    "    \n",
    "    wap1 = (df[\"bid_price1\"] * df[\"ask_size1\"] + df[\"ask_price1\"] * df[\"bid_size1\"]) / \\\n",
    "       (df[\"bid_size1\"] + df[\"ask_size1\"])\n",
    "    \n",
    "    wap2 = (df[\"bid_price2\"] * df[\"ask_size2\"] + df[\"ask_price2\"] * df[\"bid_size2\"]) / \\\n",
    "       (df[\"bid_size2\"] + df[\"ask_size2\"])\n",
    "    \n",
    "    log_return1 = np.log(wap1).groupby(level=\"time_id\").diff().dropna()\n",
    "    log_return2 = np.log(wap2).groupby(level=\"time_id\").diff().dropna()\n",
    "    \n",
    "    lr1_groupby = log_return1.groupby(level=\"time_id\")\n",
    "    lr2_groupby = log_return2.groupby(level=\"time_id\")\n",
    "\n",
    "    df_feature[\"past_vol2\"] = np.sqrt((log_return2**2).groupby(level=\"time_id\").sum())\n",
    "    df_feature[\"lr1_std\"] = lr1_groupby.std()\n",
    "    df_feature[\"lr2_std\"] = lr2_groupby.std()\n",
    "    df_feature[\"lr1_min\"] = lr1_groupby.min()\n",
    "    df_feature[\"lr2_min\"] = lr2_groupby.min()\n",
    "    \n",
    "    df_val = df_feature.sample(frac=0.2).sort_index()\n",
    "    df_train = df_feature.drop(df_val.index).sort_index()\n",
    "    \n",
    "    train_targets = all_targets.loc[stock_id].loc[df_train.index]\n",
    "    val_targets = all_targets.loc[stock_id].loc[df_val.index]\n",
    "    \n",
    "    regressor = LinearRegression()\n",
    "    regressor.fit(df_train, train_targets)\n",
    "    \n",
    "    return stock_id, pd.DataFrame({\"target\": regressor.predict(df_val)}, index=df_val.index), val_targets"
   ]
  },
  {
   "cell_type": "code",
   "execution_count": null,
   "id": "de06cc10-2f33-4d73-9fc4-f95999d3b379",
   "metadata": {},
   "outputs": [],
   "source": [
    "# from itertools import islice\n",
    "\n",
    "# preds_actuals = [fit_predict_split(df, stock_id) for stock_id, df in islice(tqdm(generate_dfs(dirs.processed / \"book_train\"), total=92), 0, 90)]\n",
    "\n",
    "# stock_ids, preds_list, actuals_list = zip(*preds_actuals)\n",
    "\n",
    "# preds = pd.concat({stock_id:pred for stock_id, pred in zip(stock_ids, preds_list)}, names=(\"stock_id\", \"time_id\"))\n",
    "# actuals = pd.concat({stock_id:actual for stock_id, actual in zip(stock_ids, actuals_list)}, names=(\"stock_id\", \"time_id\"))"
   ]
  },
  {
   "cell_type": "code",
   "execution_count": null,
   "id": "aa9b8c71-8d0d-4b64-b58a-38ded76a5287",
   "metadata": {},
   "outputs": [],
   "source": [
    "# rmspe(preds[\"target\"], actuals)"
   ]
  }
 ],
 "metadata": {
  "kernelspec": {
   "display_name": "Python 3 (ipykernel)",
   "language": "python",
   "name": "python3"
  },
  "language_info": {
   "codemirror_mode": {
    "name": "ipython",
    "version": 3
   },
   "file_extension": ".py",
   "mimetype": "text/x-python",
   "name": "python",
   "nbconvert_exporter": "python",
   "pygments_lexer": "ipython3",
   "version": "3.9.6"
  }
 },
 "nbformat": 4,
 "nbformat_minor": 5
}
