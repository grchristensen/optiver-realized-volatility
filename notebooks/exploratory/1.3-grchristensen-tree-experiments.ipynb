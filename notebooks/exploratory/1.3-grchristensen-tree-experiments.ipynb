{
 "cells": [
  {
   "cell_type": "code",
   "execution_count": 1,
   "id": "5745b67b-d5a6-474c-a2f5-07eaccb7d386",
   "metadata": {},
   "outputs": [],
   "source": [
    "import pandas as pd\n",
    "import numpy as np\n",
    "from tqdm.auto import tqdm\n",
    "from sklearn.ensemble import RandomForestRegressor\n",
    "\n",
    "from optiver import Directories\n",
    "from optiver.bench import rmspe\n",
    "\n",
    "dirs = Directories(\"../..\")"
   ]
  },
  {
   "cell_type": "code",
   "execution_count": 2,
   "id": "30212d89-1e92-42f2-837b-b8f6b96ccdfa",
   "metadata": {},
   "outputs": [],
   "source": [
    "feature_df = pd.read_hdf(dirs.processed / \"book_features.h5\")\n",
    "targets_df = pd.read_hdf(dirs.processed / \"targets_train.h5\")"
   ]
  },
  {
   "cell_type": "code",
   "execution_count": 3,
   "id": "93af4b1b-6cce-4dda-8098-f3f075e7cc99",
   "metadata": {},
   "outputs": [],
   "source": [
    "feature_val = feature_df.sample(frac=0.2, random_state=5).sort_index()\n",
    "val_index = feature_val.index\n",
    "\n",
    "feature_train = feature_df.drop(val_index).sort_index()"
   ]
  },
  {
   "cell_type": "code",
   "execution_count": 4,
   "id": "e067dc4e-0b0a-4216-b230-ed4051b09449",
   "metadata": {},
   "outputs": [],
   "source": [
    "def make_split(df):\n",
    "    return df.loc[feature_train.index], df.loc[feature_val.index]"
   ]
  },
  {
   "cell_type": "code",
   "execution_count": 5,
   "id": "a99827e0-1d53-4986-a973-372adcf6a8a5",
   "metadata": {},
   "outputs": [],
   "source": [
    "targets_train, targets_val = make_split(targets_df)"
   ]
  },
  {
   "cell_type": "code",
   "execution_count": 6,
   "id": "87635e80-7978-4334-9747-a007c9b5c219",
   "metadata": {},
   "outputs": [],
   "source": [
    "stock_id = 96\n",
    "\n",
    "train_x, train_y = feature_train.loc[stock_id], targets_train.loc[stock_id]\n",
    "val_x, val_y = feature_val.loc[stock_id], targets_val.loc[stock_id]"
   ]
  },
  {
   "cell_type": "code",
   "execution_count": 7,
   "id": "4efd021f-8f60-4765-a14c-b786cf0e4aa9",
   "metadata": {},
   "outputs": [],
   "source": [
    "regressor = RandomForestRegressor()"
   ]
  },
  {
   "cell_type": "code",
   "execution_count": 8,
   "id": "00ede737-31fa-4049-89f2-9aa0ecb4e5c1",
   "metadata": {},
   "outputs": [
    {
     "data": {
      "text/plain": [
       "RandomForestRegressor()"
      ]
     },
     "execution_count": 8,
     "metadata": {},
     "output_type": "execute_result"
    }
   ],
   "source": [
    "regressor.fit(train_x, train_y)"
   ]
  },
  {
   "cell_type": "code",
   "execution_count": 9,
   "id": "8b04d434-ead9-4839-bf3a-12e58feceadd",
   "metadata": {},
   "outputs": [
    {
     "data": {
      "text/plain": [
       "0.21132547822334602"
      ]
     },
     "execution_count": 9,
     "metadata": {},
     "output_type": "execute_result"
    }
   ],
   "source": [
    "rmspe(regressor.predict(val_x), val_y)"
   ]
  },
  {
   "cell_type": "code",
   "execution_count": null,
   "id": "73d56a3c-dc14-4132-bd8e-dca1b2624304",
   "metadata": {},
   "outputs": [],
   "source": [
    "class StockModels:\n",
    "    def __init__(self):\n",
    "        pass\n",
    "    \n",
    "    def train(self, x, y):\n",
    "        "
   ]
  }
 ],
 "metadata": {
  "kernelspec": {
   "display_name": "Python 3 (ipykernel)",
   "language": "python",
   "name": "python3"
  },
  "language_info": {
   "codemirror_mode": {
    "name": "ipython",
    "version": 3
   },
   "file_extension": ".py",
   "mimetype": "text/x-python",
   "name": "python",
   "nbconvert_exporter": "python",
   "pygments_lexer": "ipython3",
   "version": "3.9.6"
  }
 },
 "nbformat": 4,
 "nbformat_minor": 5
}
